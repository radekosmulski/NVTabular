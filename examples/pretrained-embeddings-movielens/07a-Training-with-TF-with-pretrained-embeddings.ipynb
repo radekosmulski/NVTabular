{
 "cells": [
  {
   "cell_type": "code",
   "execution_count": 1,
   "metadata": {},
   "outputs": [],
   "source": [
    "# Copyright 2021 NVIDIA Corporation. All Rights Reserved.\n",
    "#\n",
    "# Licensed under the Apache License, Version 2.0 (the \"License\");\n",
    "# you may not use this file except in compliance with the License.\n",
    "# You may obtain a copy of the License at\n",
    "#\n",
    "#     http://www.apache.org/licenses/LICENSE-2.0\n",
    "#\n",
    "# Unless required by applicable law or agreed to in writing, software\n",
    "# distributed under the License is distributed on an \"AS IS\" BASIS,\n",
    "# WITHOUT WARRANTIES OR CONDITIONS OF ANY KIND, either express or implied.\n",
    "# See the License for the specific language governing permissions and\n",
    "# limitations under the License.\n",
    "# =============================================================================="
   ]
  },
  {
   "cell_type": "markdown",
   "metadata": {},
   "source": [
    "<img src=\"http://developer.download.nvidia.com/compute/machine-learning/frameworks/nvidia_logo.png\" style=\"width: 90px; float: right;\">\n",
    "\n",
    "# Multi-Modal Data Training with TensorFlow\n",
    "\n",
    "This notebook is similar to https://github.com/NVIDIA/NVTabular/blob/main/examples/getting-started-movielens/03-Training-with-TF.ipynb, except for we make use of pretrained embeddings. \n",
    "\n",
    "## Overview\n",
    "\n",
    "We observed that TensorFlow training pipelines can be slow as the dataloader is a bottleneck. The native dataloader in TensorFlow randomly sample each item from the dataset, which is very slow. The window dataloader in TensorFlow is not much faster. In our experiments, we are able to speed-up existing TensorFlow pipelines by 9x using a highly optimized dataloader.<br><br>\n",
    "\n",
    "Applying deep learning models to recommendation systems faces unique challenges in comparison to other domains, such as computer vision and natural language processing. The datasets and common model architectures have unique characteristics, which require custom solutions. Recommendation system datasets have terabytes in size with billion examples but each example is represented by only a few bytes. For example, the [Criteo CTR dataset](https://ailab.criteo.com/download-criteo-1tb-click-logs-dataset/), the largest publicly available dataset, is 1.3TB with 4 billion examples. The model architectures have normally large embedding tables for the users and items, which do not fit on a single GPU. You can read more in our [blogpost](https://medium.com/nvidia-merlin/why-isnt-your-recommender-system-training-faster-on-gpu-and-what-can-you-do-about-it-6cb44a711ad4).\n",
    "\n",
    "### Learning objectives\n",
    "\n",
    "This notebook explains, how to use the NVTabular dataloader to accelerate TensorFlow training.\n",
    "1. Use **NVTabular dataloader** with TensorFlow Keras model\n",
    "2. Leverage **multi-hot encoded input features**"
   ]
  },
  {
   "cell_type": "markdown",
   "metadata": {},
   "source": [
    "## NVTabular dataloader for TensorFlow\n",
    "\n",
    "We’ve identified that the dataloader is one bottleneck in deep learning recommender systems when training pipelines with TensorFlow. The dataloader cannot prepare the next batch fast enough and therefore, the GPU is not fully utilized. \n",
    "\n",
    "We developed a highly customized tabular dataloader for accelerating existing pipelines in TensorFlow. In our experiments, we see a speed-up by 9x of the same training workflow with NVTabular dataloader. NVTabular dataloader’s features are:\n",
    "- removing bottleneck of item-by-item dataloading\n",
    "- enabling larger than memory dataset by streaming from disk\n",
    "- reading data directly into GPU memory and remove CPU-GPU communication\n",
    "- preparing batch asynchronously in GPU to avoid CPU-GPU communication\n",
    "- supporting commonly used .parquet format\n",
    "- easy integration into existing TensorFlow pipelines by using similar API - works with tf.keras models\n",
    "\n",
    "More information in our [blogpost](https://medium.com/nvidia-merlin/training-deep-learning-based-recommender-systems-9x-faster-with-tensorflow-cc5a2572ea49)."
   ]
  },
  {
   "cell_type": "code",
   "execution_count": 2,
   "metadata": {},
   "outputs": [],
   "source": [
    "# External dependencies\n",
    "import os\n",
    "import glob\n",
    "\n",
    "import nvtabular as nvt\n",
    "import tensorflow as tf\n",
    "\n",
    "os.environ[\"CUDA_DEVICE_ORDER\"]=\"PCI_BUS_ID\"\n",
    "os.environ[\"CUDA_VISIBLE_DEVICES\"]=\"1\""
   ]
  },
  {
   "cell_type": "markdown",
   "metadata": {},
   "source": [
    "We define our base input directory, containing the data."
   ]
  },
  {
   "cell_type": "code",
   "execution_count": 3,
   "metadata": {},
   "outputs": [],
   "source": [
    "INPUT_DATA_DIR = './data'\n",
    "# path to save the models\n",
    "MODEL_BASE_DIR = './models'"
   ]
  },
  {
   "cell_type": "markdown",
   "metadata": {},
   "source": [
    "### Defining Hyperparameters"
   ]
  },
  {
   "cell_type": "markdown",
   "metadata": {},
   "source": [
    "First, we define the data schema and differentiate between single-hot and multi-hot categorical features. Note, that we do not have any numerical input features. "
   ]
  },
  {
   "cell_type": "code",
   "execution_count": 4,
   "metadata": {},
   "outputs": [],
   "source": [
    "BATCH_SIZE = 1024\n",
    "CATEGORICAL_COLUMNS = [\"movie_id\", \"user_id\"]  # Single-hot\n",
    "CATEGORICAL_MH_COLUMNS = [\"genre\"]  # Multi-hot\n",
    "NUMERIC_COLUMNS = []\n",
    "\n",
    "# Output from ETL-with-NVTabular\n",
    "TRAIN_PATHS = sorted(glob.glob(os.path.join(INPUT_DATA_DIR, \"train\", \"*.parquet\")))\n",
    "VALID_PATHS = sorted(glob.glob(os.path.join(INPUT_DATA_DIR, \"valid\", \"*.parquet\")))"
   ]
  },
  {
   "cell_type": "code",
   "execution_count": 5,
   "metadata": {},
   "outputs": [
    {
     "data": {
      "text/plain": [
       "['./data/train/part_0.parquet']"
      ]
     },
     "execution_count": 5,
     "metadata": {},
     "output_type": "execute_result"
    }
   ],
   "source": [
    "TRAIN_PATHS"
   ]
  },
  {
   "cell_type": "markdown",
   "metadata": {},
   "source": [
    "In the previous notebook, we used NVTabular for ETL and stored the workflow to disk. We can load the NVTabular workflow to extract important metadata for our training pipeline."
   ]
  },
  {
   "cell_type": "code",
   "execution_count": 6,
   "metadata": {},
   "outputs": [],
   "source": [
    "workflow = nvt.Workflow.load(os.path.join(INPUT_DATA_DIR, \"workflow\"))"
   ]
  },
  {
   "cell_type": "markdown",
   "metadata": {},
   "source": [
    "The embedding table shows the cardinality of each categorical variable along with its associated embedding size. Each entry is of the form `(cardinality, embedding_size)`."
   ]
  },
  {
   "cell_type": "code",
   "execution_count": 7,
   "metadata": {},
   "outputs": [
    {
     "data": {
      "text/plain": [
       "({'user_id': (944, 74), 'movie_id': (1645, 101)}, {'genre': (20, 16)})"
      ]
     },
     "execution_count": 7,
     "metadata": {},
     "output_type": "execute_result"
    }
   ],
   "source": [
    "nvt.ops.get_embedding_sizes(workflow)"
   ]
  },
  {
   "cell_type": "code",
   "execution_count": 8,
   "metadata": {},
   "outputs": [
    {
     "data": {
      "text/plain": [
       "{'user_id': (944, 74), 'movie_id': (1645, 101), 'genre': (20, 16)}"
      ]
     },
     "execution_count": 8,
     "metadata": {},
     "output_type": "execute_result"
    }
   ],
   "source": [
    "EMBEDDING_TABLE_SHAPES, MH_EMBEDDING_TABLE_SHAPES = nvt.ops.get_embedding_sizes(workflow)\n",
    "EMBEDDING_TABLE_SHAPES.update(MH_EMBEDDING_TABLE_SHAPES)\n",
    "EMBEDDING_TABLE_SHAPES"
   ]
  },
  {
   "cell_type": "markdown",
   "metadata": {},
   "source": [
    "### Initializing NVTabular Dataloader for Tensorflow"
   ]
  },
  {
   "cell_type": "markdown",
   "metadata": {},
   "source": [
    "We import TensorFlow and some NVTabular TF extensions, such as custom TensorFlow layers supporting multi-hot and the NVTabular TensorFlow data loader."
   ]
  },
  {
   "cell_type": "code",
   "execution_count": 9,
   "metadata": {},
   "outputs": [],
   "source": [
    "#!pip install tensorflow-gpu==2.4.0"
   ]
  },
  {
   "cell_type": "code",
   "execution_count": 10,
   "metadata": {},
   "outputs": [
    {
     "name": "stderr",
     "output_type": "stream",
     "text": [
      "2022-05-26 04:24:14.941826: I tensorflow/stream_executor/cuda/cuda_gpu_executor.cc:952] successful NUMA node read from SysFS had negative value (-1), but there must be at least one NUMA node, so returning NUMA node zero\n",
      "2022-05-26 04:24:14.942302: I tensorflow/stream_executor/cuda/cuda_gpu_executor.cc:952] successful NUMA node read from SysFS had negative value (-1), but there must be at least one NUMA node, so returning NUMA node zero\n",
      "2022-05-26 04:24:14.942478: I tensorflow/stream_executor/cuda/cuda_gpu_executor.cc:952] successful NUMA node read from SysFS had negative value (-1), but there must be at least one NUMA node, so returning NUMA node zero\n"
     ]
    }
   ],
   "source": [
    "import os\n",
    "import tensorflow as tf\n",
    "\n",
    "# we can control how much memory to give tensorflow with this environment variable\n",
    "# IMPORTANT: make sure you do this before you initialize TF's runtime, otherwise\n",
    "# TF will have claimed all free GPU memory\n",
    "os.environ[\"TF_MEMORY_ALLOCATION\"] = \"0.7\"  # fraction of free memory\n",
    "from nvtabular.loader.tensorflow import KerasSequenceLoader, KerasSequenceValidater\n",
    "from nvtabular.framework_utils.tensorflow import layers"
   ]
  },
  {
   "cell_type": "markdown",
   "metadata": {},
   "source": [
    "First, we take a look on our data loader and how the data is represented as tensors. The NVTabular data loader are initialized as usually and we specify both single-hot and multi-hot categorical features as cat_names. The data loader will automatically recognize the single/multi-hot columns and represent them accordingly."
   ]
  },
  {
   "cell_type": "code",
   "execution_count": 11,
   "metadata": {},
   "outputs": [
    {
     "name": "stderr",
     "output_type": "stream",
     "text": [
      "/usr/local/lib/python3.8/dist-packages/cudf/core/dataframe.py:1292: UserWarning: The deep parameter is ignored and is only included for pandas compatibility.\n",
      "  warnings.warn(\n"
     ]
    }
   ],
   "source": [
    "train_dataset_tf = KerasSequenceLoader(\n",
    "    TRAIN_PATHS,  # you could also use a glob pattern\n",
    "    batch_size=BATCH_SIZE,\n",
    "    label_names=[\"rating\"],\n",
    "    cat_names=CATEGORICAL_COLUMNS + CATEGORICAL_MH_COLUMNS,\n",
    "    cont_names=NUMERIC_COLUMNS,\n",
    "    engine=\"parquet\",\n",
    "    shuffle=True,\n",
    "    buffer_size=0.06,  # how many batches to load at once\n",
    "    parts_per_chunk=1,\n",
    ")\n",
    "\n",
    "valid_dataset_tf = KerasSequenceLoader(\n",
    "    VALID_PATHS,  # you could also use a glob pattern\n",
    "    batch_size=BATCH_SIZE,\n",
    "    label_names=[\"rating\"],\n",
    "    cat_names=CATEGORICAL_COLUMNS + CATEGORICAL_MH_COLUMNS,\n",
    "    cont_names=NUMERIC_COLUMNS,\n",
    "    engine=\"parquet\",\n",
    "    shuffle=False,\n",
    "    buffer_size=0.06,\n",
    "    parts_per_chunk=1,\n",
    ")"
   ]
  },
  {
   "cell_type": "code",
   "execution_count": 12,
   "metadata": {},
   "outputs": [],
   "source": [
    "train_dataset_tf = KerasSequenceLoader(\n",
    "    TRAIN_PATHS,  # you could also use a glob pattern\n",
    "    batch_size=BATCH_SIZE,\n",
    "    label_names=[\"rating\"],\n",
    "    cat_names=CATEGORICAL_COLUMNS + CATEGORICAL_MH_COLUMNS,\n",
    "    cont_names=NUMERIC_COLUMNS,\n",
    "    engine=\"parquet\",\n",
    "    shuffle=True,\n",
    "    buffer_size=0.06,  # how many batches to load at once\n",
    "    parts_per_chunk=1,\n",
    ")"
   ]
  },
  {
   "cell_type": "code",
   "execution_count": 13,
   "metadata": {},
   "outputs": [
    {
     "name": "stderr",
     "output_type": "stream",
     "text": [
      "2022-05-26 04:24:15.154299: I tensorflow/core/platform/cpu_feature_guard.cc:152] This TensorFlow binary is optimized with oneAPI Deep Neural Network Library (oneDNN) to use the following CPU instructions in performance-critical operations:  SSE3 SSE4.1 SSE4.2 AVX\n",
      "To enable them in other operations, rebuild TensorFlow with the appropriate compiler flags.\n",
      "2022-05-26 04:24:15.155049: I tensorflow/stream_executor/cuda/cuda_gpu_executor.cc:952] successful NUMA node read from SysFS had negative value (-1), but there must be at least one NUMA node, so returning NUMA node zero\n",
      "2022-05-26 04:24:15.155223: I tensorflow/stream_executor/cuda/cuda_gpu_executor.cc:952] successful NUMA node read from SysFS had negative value (-1), but there must be at least one NUMA node, so returning NUMA node zero\n",
      "2022-05-26 04:24:15.155353: I tensorflow/stream_executor/cuda/cuda_gpu_executor.cc:952] successful NUMA node read from SysFS had negative value (-1), but there must be at least one NUMA node, so returning NUMA node zero\n",
      "2022-05-26 04:24:15.155668: I tensorflow/stream_executor/cuda/cuda_gpu_executor.cc:952] successful NUMA node read from SysFS had negative value (-1), but there must be at least one NUMA node, so returning NUMA node zero\n",
      "2022-05-26 04:24:15.155888: I tensorflow/stream_executor/cuda/cuda_gpu_executor.cc:952] successful NUMA node read from SysFS had negative value (-1), but there must be at least one NUMA node, so returning NUMA node zero\n",
      "2022-05-26 04:24:15.156098: I tensorflow/stream_executor/cuda/cuda_gpu_executor.cc:952] successful NUMA node read from SysFS had negative value (-1), but there must be at least one NUMA node, so returning NUMA node zero\n",
      "2022-05-26 04:24:15.156277: I tensorflow/core/common_runtime/gpu/gpu_device.cc:1525] Created device /job:localhost/replica:0/task:0/device:GPU:0 with 34406 MB memory:  -> device: 0, name: Quadro RTX 8000, pci bus id: 0000:08:00.0, compute capability: 7.5\n"
     ]
    },
    {
     "data": {
      "text/plain": [
       "{'genre': (<tf.Tensor: shape=(2195, 1), dtype=int64, numpy=\n",
       "  array([[3],\n",
       "         [6],\n",
       "         [7],\n",
       "         ...,\n",
       "         [3],\n",
       "         [2],\n",
       "         [8]])>,\n",
       "  <tf.Tensor: shape=(1024, 1), dtype=int32, numpy=\n",
       "  array([[4],\n",
       "         [2],\n",
       "         [1],\n",
       "         ...,\n",
       "         [4],\n",
       "         [2],\n",
       "         [3]], dtype=int32)>),\n",
       " 'movie_id': <tf.Tensor: shape=(1024, 1), dtype=int64, numpy=\n",
       " array([[201],\n",
       "        [ 64],\n",
       "        [586],\n",
       "        ...,\n",
       "        [ 36],\n",
       "        [ 13],\n",
       "        [447]])>,\n",
       " 'user_id': <tf.Tensor: shape=(1024, 1), dtype=int64, numpy=\n",
       " array([[134],\n",
       "        [684],\n",
       "        [151],\n",
       "        ...,\n",
       "        [290],\n",
       "        [ 93],\n",
       "        [ 29]])>}"
      ]
     },
     "execution_count": 13,
     "metadata": {},
     "output_type": "execute_result"
    }
   ],
   "source": [
    "batch = next(iter(train_dataset_tf))\n",
    "batch[0]"
   ]
  },
  {
   "cell_type": "code",
   "execution_count": 14,
   "metadata": {},
   "outputs": [
    {
     "data": {
      "text/plain": [
       "tuple"
      ]
     },
     "execution_count": 14,
     "metadata": {},
     "output_type": "execute_result"
    }
   ],
   "source": [
    "type(batch[0]['genre'])"
   ]
  },
  {
   "cell_type": "code",
   "execution_count": 15,
   "metadata": {},
   "outputs": [],
   "source": [
    "from nvtabular.framework_utils.tensorflow import layers"
   ]
  },
  {
   "cell_type": "code",
   "execution_count": null,
   "metadata": {},
   "outputs": [],
   "source": []
  },
  {
   "cell_type": "code",
   "execution_count": null,
   "metadata": {},
   "outputs": [],
   "source": []
  },
  {
   "cell_type": "markdown",
   "metadata": {},
   "source": [
    "Let's generate a batch and take a look on the input features.<br><br>\n",
    "We can see, that the single-hot categorical features (`user_id` and `movie_id`) have a shape of `(1024, 1)`, which is the batchsize.<br><br>\n",
    "For the multi-hot categorical feature `genre`, we receive two Tensors `genre__values` and `genre__nnzs`.<br><br>\n",
    "`genre__values` are the actual data, containing the genre IDs. Note that the Tensor has more values than the batch_size. The reason is, that one datapoint in the batch can contain more than one genre (multi-hot).<br>\n",
    "`genre__nnzs` are a supporting Tensor, describing how many genres are associated with each datapoint in the batch.<br><br>\n",
    "For example,\n",
    "- if the first value in `genre__nnzs` is `5`, then the first 5 values in `genre__values` are associated with the first datapoint in the batch (movieId/userId).<br>\n",
    "- if the second value in `genre__nnzs` is `2`, then the 6th and the 7th values in `genre__values` are associated with the second datapoint in the batch (continuing after the previous value stopped).<br> \n",
    "- if the third value in `genre_nnzs` is `1`, then the 8th value in `genre__values` are associated with the third datapoint in the batch. \n",
    "- and so on"
   ]
  },
  {
   "cell_type": "code",
   "execution_count": 16,
   "metadata": {},
   "outputs": [
    {
     "data": {
      "text/plain": [
       "{'genre': (<tf.Tensor: shape=(2199, 1), dtype=int64, numpy=\n",
       "  array([[ 1],\n",
       "         [ 7],\n",
       "         [ 4],\n",
       "         ...,\n",
       "         [15],\n",
       "         [ 9],\n",
       "         [ 1]])>,\n",
       "  <tf.Tensor: shape=(1024, 1), dtype=int32, numpy=\n",
       "  array([[3],\n",
       "         [4],\n",
       "         [2],\n",
       "         ...,\n",
       "         [2],\n",
       "         [3],\n",
       "         [2]], dtype=int32)>),\n",
       " 'movie_id': <tf.Tensor: shape=(1024, 1), dtype=int64, numpy=\n",
       " array([[230],\n",
       "        [291],\n",
       "        [462],\n",
       "        ...,\n",
       "        [348],\n",
       "        [256],\n",
       "        [153]])>,\n",
       " 'user_id': <tf.Tensor: shape=(1024, 1), dtype=int64, numpy=\n",
       " array([[738],\n",
       "        [ 35],\n",
       "        [  8],\n",
       "        ...,\n",
       "        [289],\n",
       "        [  4],\n",
       "        [178]])>}"
      ]
     },
     "execution_count": 16,
     "metadata": {},
     "output_type": "execute_result"
    }
   ],
   "source": [
    "batch = next(iter(train_dataset_tf))\n",
    "batch[0]"
   ]
  },
  {
   "cell_type": "markdown",
   "metadata": {},
   "source": [
    "We can see that the sum of `genres__nnzs` is equal to the shape of `genres__values`."
   ]
  },
  {
   "cell_type": "code",
   "execution_count": 17,
   "metadata": {},
   "outputs": [
    {
     "data": {
      "text/plain": [
       "<tf.Tensor: shape=(), dtype=int32, numpy=2199>"
      ]
     },
     "execution_count": 17,
     "metadata": {},
     "output_type": "execute_result"
    }
   ],
   "source": [
    "tf.reduce_sum(batch[0]['genre'][1])"
   ]
  },
  {
   "cell_type": "markdown",
   "metadata": {},
   "source": [
    "As each datapoint can have a different number of genres, it is more efficient to represent the genres as two flat tensors: One with the actual values (`genres__values`) and one with the length for each datapoint (`genres__nnzs`)."
   ]
  },
  {
   "cell_type": "code",
   "execution_count": 18,
   "metadata": {},
   "outputs": [],
   "source": [
    "del batch"
   ]
  },
  {
   "cell_type": "markdown",
   "metadata": {},
   "source": [
    "### Defining Neural Network Architecture"
   ]
  },
  {
   "cell_type": "markdown",
   "metadata": {},
   "source": [
    "We will define a common neural network architecture for tabular data.\n",
    "* Single-hot categorical features are fed into an Embedding Layer\n",
    "* Each value of a multi-hot categorical features is fed into an Embedding Layer and the multiple Embedding outputs are combined via averaging\n",
    "* The output of the Embedding Layers are concatenated\n",
    "* The concatenated layers are fed through multiple feed-forward layers (Dense Layers with ReLU activations)\n",
    "* The final output is a single number with sigmoid activation function"
   ]
  },
  {
   "cell_type": "markdown",
   "metadata": {},
   "source": [
    "First, we will define some dictonary/lists for our network architecture."
   ]
  },
  {
   "cell_type": "code",
   "execution_count": 19,
   "metadata": {},
   "outputs": [],
   "source": [
    "inputs = {}  # tf.keras.Input placeholders for each feature to be used\n",
    "emb_layers = []  # output of all embedding layers, which will be concatenated"
   ]
  },
  {
   "cell_type": "markdown",
   "metadata": {},
   "source": [
    "We create `tf.keras.Input` tensors for all 4 input features."
   ]
  },
  {
   "cell_type": "code",
   "execution_count": 20,
   "metadata": {},
   "outputs": [
    {
     "data": {
      "text/plain": [
       "['movie_id', 'user_id']"
      ]
     },
     "execution_count": 20,
     "metadata": {},
     "output_type": "execute_result"
    }
   ],
   "source": [
    "CATEGORICAL_COLUMNS"
   ]
  },
  {
   "cell_type": "code",
   "execution_count": 21,
   "metadata": {},
   "outputs": [],
   "source": [
    "for col in CATEGORICAL_COLUMNS:\n",
    "    inputs[col] = tf.keras.Input(name=col, dtype=tf.int32, shape=(1,))\n",
    "# Note that we need two input tensors for multi-hot categorical features\n",
    "for col in CATEGORICAL_MH_COLUMNS:\n",
    "    inputs[col + \"__values\"] = tf.keras.Input(name=f\"{col}__values\", dtype=tf.int64, shape=(1,))\n",
    "    inputs[col + \"__nnzs\"] = tf.keras.Input(name=f\"{col}__nnzs\", dtype=tf.int64, shape=(1,))"
   ]
  },
  {
   "cell_type": "code",
   "execution_count": null,
   "metadata": {},
   "outputs": [],
   "source": []
  },
  {
   "cell_type": "code",
   "execution_count": 22,
   "metadata": {},
   "outputs": [
    {
     "data": {
      "text/plain": [
       "<KerasTensor: shape=(None,) dtype=int32 (created by layer 'reshape')>"
      ]
     },
     "execution_count": 22,
     "metadata": {},
     "output_type": "execute_result"
    }
   ],
   "source": [
    "tf.keras.layers.Reshape(())(inputs['movie_id'])"
   ]
  },
  {
   "cell_type": "markdown",
   "metadata": {},
   "source": [
    "Next, we initialize Embedding Layers with `tf.feature_column.embedding_column`."
   ]
  },
  {
   "cell_type": "code",
   "execution_count": 23,
   "metadata": {},
   "outputs": [
    {
     "data": {
      "text/plain": [
       "[EmbeddingColumn(categorical_column=IdentityCategoricalColumn(key='movie_id', number_buckets=1645, default_value=None), dimension=101, combiner='mean', initializer=<tensorflow.python.ops.init_ops.TruncatedNormal object at 0x7fcfe422db50>, ckpt_to_load_from=None, tensor_name_in_ckpt=None, max_norm=None, trainable=True, use_safe_embedding_lookup=True),\n",
       " EmbeddingColumn(categorical_column=IdentityCategoricalColumn(key='user_id', number_buckets=944, default_value=None), dimension=74, combiner='mean', initializer=<tensorflow.python.ops.init_ops.TruncatedNormal object at 0x7fcfe422db80>, ckpt_to_load_from=None, tensor_name_in_ckpt=None, max_norm=None, trainable=True, use_safe_embedding_lookup=True),\n",
       " EmbeddingColumn(categorical_column=IdentityCategoricalColumn(key='genre', number_buckets=20, default_value=None), dimension=16, combiner='mean', initializer=<tensorflow.python.ops.init_ops.TruncatedNormal object at 0x7fcfe422dc10>, ckpt_to_load_from=None, tensor_name_in_ckpt=None, max_norm=None, trainable=True, use_safe_embedding_lookup=True)]"
      ]
     },
     "execution_count": 23,
     "metadata": {},
     "output_type": "execute_result"
    }
   ],
   "source": [
    "for col in CATEGORICAL_COLUMNS + CATEGORICAL_MH_COLUMNS:\n",
    "    emb_layers.append(\n",
    "        tf.feature_column.embedding_column(\n",
    "            tf.feature_column.categorical_column_with_identity(\n",
    "                col, EMBEDDING_TABLE_SHAPES[col][0]\n",
    "            ),  # Input dimension (vocab size)\n",
    "            EMBEDDING_TABLE_SHAPES[col][1],  # Embedding output dimension\n",
    "        )\n",
    "    )\n",
    "emb_layers"
   ]
  },
  {
   "cell_type": "markdown",
   "metadata": {},
   "source": [
    "## Loading pretrained movie features into non-trainable embedding layer"
   ]
  },
  {
   "cell_type": "code",
   "execution_count": 24,
   "metadata": {},
   "outputs": [],
   "source": [
    "import pandas as pd\n",
    "import cudf\n",
    "import numpy as np\n",
    "\n",
    "movie_features = pd.read_pickle('data/movies_poster_features.pkl')"
   ]
  },
  {
   "cell_type": "markdown",
   "metadata": {},
   "source": [
    "During preprocessing, original movie ids got mapped to a continuous list of integers. We now need to reconstruct this mapping to assign each embedding to correct id."
   ]
  },
  {
   "cell_type": "code",
   "execution_count": 25,
   "metadata": {},
   "outputs": [],
   "source": [
    "movie_id_mapping = cudf.read_parquet('data/workflow/categories/unique.movie_id.parquet')\n",
    "emb_row_idx2movie_id = movie_id_mapping.loc[1:, 'movie_id'].to_pandas().to_dict()\n",
    "movie_id2emb_row_idx ={v:k for k,v in emb_row_idx2movie_id.items()}"
   ]
  },
  {
   "cell_type": "markdown",
   "metadata": {},
   "source": [
    "Equipped with this information, we can now construct the embedding table."
   ]
  },
  {
   "cell_type": "code",
   "execution_count": 26,
   "metadata": {},
   "outputs": [],
   "source": [
    "num_embeddings = len(movie_id_mapping)\n",
    "embedding_dim = 2048\n",
    "\n",
    "# Prepare embedding matrix\n",
    "embedding_matrix = np.zeros((num_embeddings, embedding_dim))\n",
    "\n",
    "for movie_id, poster_features in movie_features.items():\n",
    "    if movie_id in movie_id2emb_row_idx: # movies that have not found their way into the train set will not be in this mapping\n",
    "        embedding_matrix[movie_id2emb_row_idx[movie_id]] = poster_features"
   ]
  },
  {
   "cell_type": "code",
   "execution_count": 27,
   "metadata": {},
   "outputs": [],
   "source": [
    "from tensorflow.keras.layers import Embedding\n",
    "import keras\n",
    "\n",
    "feature_embedding_layer = Embedding(\n",
    "    num_embeddings,\n",
    "    embedding_dim,\n",
    "    embeddings_initializer=keras.initializers.Constant(embedding_matrix),\n",
    "    trainable=False,\n",
    ")"
   ]
  },
  {
   "cell_type": "code",
   "execution_count": 28,
   "metadata": {},
   "outputs": [],
   "source": [
    "pretrained_feature = feature_embedding_layer(tf.keras.layers.Reshape(())(inputs['movie_id']))"
   ]
  },
  {
   "cell_type": "code",
   "execution_count": 29,
   "metadata": {},
   "outputs": [
    {
     "data": {
      "text/plain": [
       "<KerasTensor: shape=(None, 2048) dtype=float32 (created by layer 'embedding')>"
      ]
     },
     "execution_count": 29,
     "metadata": {},
     "output_type": "execute_result"
    }
   ],
   "source": [
    "pretrained_feature"
   ]
  },
  {
   "cell_type": "code",
   "execution_count": 30,
   "metadata": {},
   "outputs": [
    {
     "data": {
      "text/plain": [
       "{'user_id': (944, 74), 'movie_id': (1645, 101), 'genre': (20, 16)}"
      ]
     },
     "execution_count": 30,
     "metadata": {},
     "output_type": "execute_result"
    }
   ],
   "source": [
    "EMBEDDING_TABLE_SHAPES"
   ]
  },
  {
   "cell_type": "markdown",
   "metadata": {},
   "source": [
    "NVTabular implemented a custom TensorFlow layer `layers.DenseFeatures`, which takes as an input the different `tf.Keras.Input` and pre-initialized `tf.feature_column` and automatically concatenate them into a flat tensor. In the case of multi-hot categorical features, `DenseFeatures` organizes the inputs `__values` and `__nnzs` to define a `RaggedTensor` and combine them. `DenseFeatures` can handle numeric inputs, as well, but MovieLens does not provide numerical input features."
   ]
  },
  {
   "cell_type": "code",
   "execution_count": 233,
   "metadata": {},
   "outputs": [],
   "source": [
    "?? layers.DenseFeatures"
   ]
  },
  {
   "cell_type": "code",
   "execution_count": null,
   "metadata": {},
   "outputs": [],
   "source": []
  },
  {
   "cell_type": "code",
   "execution_count": null,
   "metadata": {},
   "outputs": [],
   "source": []
  },
  {
   "cell_type": "code",
   "execution_count": null,
   "metadata": {},
   "outputs": [],
   "source": []
  },
  {
   "cell_type": "code",
   "execution_count": 218,
   "metadata": {},
   "outputs": [
    {
     "ename": "RuntimeError",
     "evalue": "Exception encountered when calling layer \"dense_features\" (type DenseFeatures).\n\nKeyError: 'genre'\n\nCall arguments received:\n  • inputs={'movie_id': 'tf.Tensor(shape=(None, 1), dtype=int32)', 'user_id': 'tf.Tensor(shape=(None, 1), dtype=int32)', 'genre__values': 'tf.Tensor(shape=(None, 1), dtype=int64)', 'genre__nnzs': 'tf.Tensor(shape=(None, 1), dtype=int64)'}",
     "output_type": "error",
     "traceback": [
      "\u001b[0;31m---------------------------------------------------------------------------\u001b[0m",
      "\u001b[0;31mRuntimeError\u001b[0m                              Traceback (most recent call last)",
      "Input \u001b[0;32mIn [218]\u001b[0m, in \u001b[0;36m<cell line: 4>\u001b[0;34m()\u001b[0m\n\u001b[1;32m      1\u001b[0m \u001b[38;5;28;01mfrom\u001b[39;00m \u001b[38;5;21;01mtensorflow\u001b[39;00m\u001b[38;5;21;01m.\u001b[39;00m\u001b[38;5;21;01mkeras\u001b[39;00m \u001b[38;5;28;01mimport\u001b[39;00m layers \u001b[38;5;28;01mas\u001b[39;00m keras_layers\n\u001b[1;32m      3\u001b[0m emb_layer \u001b[38;5;241m=\u001b[39m layers\u001b[38;5;241m.\u001b[39mDenseFeatures(emb_layers)\n\u001b[0;32m----> 4\u001b[0m x_emb_output \u001b[38;5;241m=\u001b[39m keras_layers\u001b[38;5;241m.\u001b[39mconcatenate((\u001b[43memb_layer\u001b[49m\u001b[43m(\u001b[49m\u001b[43minputs\u001b[49m\u001b[43m)\u001b[49m, pretrained_feature))\n\u001b[1;32m      5\u001b[0m x_emb_output\n",
      "File \u001b[0;32m/usr/local/lib/python3.8/dist-packages/keras/utils/traceback_utils.py:67\u001b[0m, in \u001b[0;36mfilter_traceback.<locals>.error_handler\u001b[0;34m(*args, **kwargs)\u001b[0m\n\u001b[1;32m     65\u001b[0m \u001b[38;5;28;01mexcept\u001b[39;00m \u001b[38;5;167;01mException\u001b[39;00m \u001b[38;5;28;01mas\u001b[39;00m e:  \u001b[38;5;66;03m# pylint: disable=broad-except\u001b[39;00m\n\u001b[1;32m     66\u001b[0m   filtered_tb \u001b[38;5;241m=\u001b[39m _process_traceback_frames(e\u001b[38;5;241m.\u001b[39m__traceback__)\n\u001b[0;32m---> 67\u001b[0m   \u001b[38;5;28;01mraise\u001b[39;00m e\u001b[38;5;241m.\u001b[39mwith_traceback(filtered_tb) \u001b[38;5;28;01mfrom\u001b[39;00m \u001b[38;5;28mNone\u001b[39m\n\u001b[1;32m     68\u001b[0m \u001b[38;5;28;01mfinally\u001b[39;00m:\n\u001b[1;32m     69\u001b[0m   \u001b[38;5;28;01mdel\u001b[39;00m filtered_tb\n",
      "File \u001b[0;32m/usr/local/lib/python3.8/dist-packages/tensorflow/python/autograph/impl/api.py:692\u001b[0m, in \u001b[0;36mconvert.<locals>.decorator.<locals>.wrapper\u001b[0;34m(*args, **kwargs)\u001b[0m\n\u001b[1;32m    690\u001b[0m \u001b[38;5;28;01mexcept\u001b[39;00m \u001b[38;5;167;01mException\u001b[39;00m \u001b[38;5;28;01mas\u001b[39;00m e:  \u001b[38;5;66;03m# pylint:disable=broad-except\u001b[39;00m\n\u001b[1;32m    691\u001b[0m   \u001b[38;5;28;01mif\u001b[39;00m \u001b[38;5;28mhasattr\u001b[39m(e, \u001b[38;5;124m'\u001b[39m\u001b[38;5;124mag_error_metadata\u001b[39m\u001b[38;5;124m'\u001b[39m):\n\u001b[0;32m--> 692\u001b[0m     \u001b[38;5;28;01mraise\u001b[39;00m e\u001b[38;5;241m.\u001b[39mag_error_metadata\u001b[38;5;241m.\u001b[39mto_exception(e)\n\u001b[1;32m    693\u001b[0m   \u001b[38;5;28;01melse\u001b[39;00m:\n\u001b[1;32m    694\u001b[0m     \u001b[38;5;28;01mraise\u001b[39;00m\n",
      "\u001b[0;31mRuntimeError\u001b[0m: Exception encountered when calling layer \"dense_features\" (type DenseFeatures).\n\nKeyError: 'genre'\n\nCall arguments received:\n  • inputs={'movie_id': 'tf.Tensor(shape=(None, 1), dtype=int32)', 'user_id': 'tf.Tensor(shape=(None, 1), dtype=int32)', 'genre__values': 'tf.Tensor(shape=(None, 1), dtype=int64)', 'genre__nnzs': 'tf.Tensor(shape=(None, 1), dtype=int64)'}"
     ]
    }
   ],
   "source": [
    "from tensorflow.keras import layers as keras_layers\n",
    "\n",
    "emb_layer = layers.DenseFeatures(emb_layers)\n",
    "x_emb_output = keras_layers.concatenate((emb_layer(inputs), pretrained_feature))\n",
    "x_emb_output"
   ]
  },
  {
   "cell_type": "markdown",
   "metadata": {},
   "source": [
    "We can see that the output shape of the concatenated layer is equal to the sum of the individual Embedding output dimensions (1040 = 16+512+512).\n"
   ]
  },
  {
   "cell_type": "code",
   "execution_count": 128,
   "metadata": {},
   "outputs": [
    {
     "data": {
      "text/plain": [
       "{'movieId': (56586, 512), 'userId': (162542, 512), 'genres': (21, 16)}"
      ]
     },
     "execution_count": 128,
     "metadata": {},
     "output_type": "execute_result"
    }
   ],
   "source": [
    "EMBEDDING_TABLE_SHAPES"
   ]
  },
  {
   "cell_type": "markdown",
   "metadata": {},
   "source": [
    "We add multiple Dense Layers. Finally, we initialize the `tf.keras.Model` and add the optimizer."
   ]
  },
  {
   "cell_type": "code",
   "execution_count": 129,
   "metadata": {},
   "outputs": [],
   "source": [
    "x = tf.keras.layers.Dense(128, activation=\"relu\")(x_emb_output)\n",
    "x = tf.keras.layers.Dense(128, activation=\"relu\")(x)\n",
    "x = tf.keras.layers.Dense(128, activation=\"relu\")(x)\n",
    "x = tf.keras.layers.Dense(1, activation=\"sigmoid\", name=\"output\")(x)\n",
    "\n",
    "model = tf.keras.Model(inputs=inputs, outputs=x)\n",
    "model.compile(\"adam\", \"binary_crossentropy\", metrics=[tf.keras.metrics.AUC(name=\"AUC\")])"
   ]
  },
  {
   "cell_type": "code",
   "execution_count": 130,
   "metadata": {},
   "outputs": [
    {
     "data": {
      "image/png": "[encoded data removed]",
      "text/plain": [
       "<IPython.core.display.Image object>"
      ]
     },
     "execution_count": 130,
     "metadata": {},
     "output_type": "execute_result"
    }
   ],
   "source": [
    "# You need to install the dependencies\n",
    "tf.keras.utils.plot_model(model)"
   ]
  },
  {
   "cell_type": "markdown",
   "metadata": {},
   "source": [
    "### Training the deep learning model"
   ]
  },
  {
   "cell_type": "markdown",
   "metadata": {},
   "source": [
    "We can train our model with `model.fit`. We need to use a Callback to add the validation dataloader."
   ]
  },
  {
   "cell_type": "code",
   "execution_count": null,
   "metadata": {},
   "outputs": [
    {
     "name": "stdout",
     "output_type": "stream",
     "text": [
      "Epoch 1/50\n",
      "611/611 [==============================] - 41s 64ms/step - loss: 0.5273 - AUC: 0.7893\n",
      "{'val_loss': 0.55516416, 'val_AUC': 0.7943459}\n",
      "Epoch 2/50\n",
      "611/611 [==============================] - 39s 62ms/step - loss: 0.4933 - AUC: 0.8205\n",
      "{'val_loss': 0.52661306, 'val_AUC': 0.82041407}\n",
      "Epoch 3/50\n",
      "611/611 [==============================] - 39s 61ms/step - loss: 0.4844 - AUC: 0.8279\n",
      "{'val_loss': 0.5194915, 'val_AUC': 0.8267972}\n",
      "Epoch 4/50\n",
      "611/611 [==============================] - 38s 61ms/step - loss: 0.4747 - AUC: 0.8356\n",
      "{'val_loss': 0.5114968, 'val_AUC': 0.8330189}\n",
      "Epoch 5/50\n",
      "611/611 [==============================] - 38s 60ms/step - loss: 0.4649 - AUC: 0.8432\n",
      "{'val_loss': 0.50313425, 'val_AUC': 0.83913755}\n",
      "Epoch 6/50\n",
      "611/611 [==============================] - 38s 60ms/step - loss: 0.4547 - AUC: 0.8510\n",
      "{'val_loss': 0.49541005, 'val_AUC': 0.8447747}\n",
      "Epoch 7/50\n",
      "611/611 [==============================] - 37s 59ms/step - loss: 0.4447 - AUC: 0.8584\n",
      "{'val_loss': 0.48725614, 'val_AUC': 0.8505972}\n",
      "Epoch 8/50\n",
      "611/611 [==============================] - 37s 59ms/step - loss: 0.4354 - AUC: 0.8649\n",
      "{'val_loss': 0.48017263, 'val_AUC': 0.8545526}\n",
      "Epoch 9/50\n",
      "611/611 [==============================] - 37s 59ms/step - loss: 0.4273 - AUC: 0.8703\n",
      "{'val_loss': 0.47231477, 'val_AUC': 0.8594892}\n",
      "Epoch 10/50\n",
      "611/611 [==============================] - 37s 58ms/step - loss: 0.4198 - AUC: 0.8752\n",
      "{'val_loss': 0.4658765, 'val_AUC': 0.86292046}\n",
      "Epoch 11/50\n",
      "611/611 [==============================] - 37s 59ms/step - loss: 0.4133 - AUC: 0.8792\n",
      "{'val_loss': 0.46116742, 'val_AUC': 0.8660252}\n",
      "Epoch 12/50\n",
      "611/611 [==============================] - 37s 59ms/step - loss: 0.4073 - AUC: 0.8829\n",
      "{'val_loss': 0.4560343, 'val_AUC': 0.8681808}\n",
      "Epoch 13/50\n",
      "611/611 [==============================] - 36s 58ms/step - loss: 0.4026 - AUC: 0.8858\n",
      "{'val_loss': 0.45111334, 'val_AUC': 0.8709213}\n",
      "Epoch 14/50\n",
      "611/611 [==============================] - 37s 59ms/step - loss: 0.3973 - AUC: 0.8889\n",
      "{'val_loss': 0.4462591, 'val_AUC': 0.87275076}\n",
      "Epoch 15/50\n",
      "611/611 [==============================] - 36s 58ms/step - loss: 0.3929 - AUC: 0.8915\n",
      "{'val_loss': 0.44311276, 'val_AUC': 0.8739548}\n",
      "Epoch 16/50\n",
      "611/611 [==============================] - 36s 58ms/step - loss: 0.3887 - AUC: 0.8939\n",
      "{'val_loss': 0.43806863, 'val_AUC': 0.87664336}\n",
      "Epoch 17/50\n",
      "611/611 [==============================] - 37s 58ms/step - loss: 0.3843 - AUC: 0.8965\n",
      "{'val_loss': 0.43448216, 'val_AUC': 0.8783565}\n",
      "Epoch 18/50\n",
      "611/611 [==============================] - 37s 58ms/step - loss: 0.3806 - AUC: 0.8986\n",
      "{'val_loss': 0.43375218, 'val_AUC': 0.879253}\n",
      "Epoch 19/50\n",
      "611/611 [==============================] - 36s 57ms/step - loss: 0.3772 - AUC: 0.9005\n",
      "{'val_loss': 0.4285137, 'val_AUC': 0.88247657}\n",
      "Epoch 20/50\n",
      "611/611 [==============================] - 36s 57ms/step - loss: 0.3730 - AUC: 0.9028\n",
      "{'val_loss': 0.42477727, 'val_AUC': 0.8841679}\n",
      "Epoch 21/50\n",
      "611/611 [==============================] - 36s 58ms/step - loss: 0.3693 - AUC: 0.9048\n",
      "{'val_loss': 0.4218649, 'val_AUC': 0.8849615}\n",
      "Epoch 22/50\n",
      "611/611 [==============================] - 36s 57ms/step - loss: 0.3660 - AUC: 0.9065\n",
      "{'val_loss': 0.41845176, 'val_AUC': 0.88552535}\n",
      "Epoch 23/50\n",
      "611/611 [==============================] - 36s 58ms/step - loss: 0.3640 - AUC: 0.9077\n",
      "{'val_loss': 0.41986609, 'val_AUC': 0.88573027}\n",
      "Epoch 24/50\n",
      "611/611 [==============================] - 36s 57ms/step - loss: 0.3619 - AUC: 0.9088\n",
      "{'val_loss': 0.41677463, 'val_AUC': 0.88684523}\n",
      "Epoch 25/50\n",
      "611/611 [==============================] - 36s 58ms/step - loss: 0.3610 - AUC: 0.9094\n",
      "{'val_loss': 0.41364035, 'val_AUC': 0.8877933}\n",
      "Epoch 26/50\n",
      "611/611 [==============================] - 36s 58ms/step - loss: 0.3584 - AUC: 0.9107\n",
      "{'val_loss': 0.41411227, 'val_AUC': 0.8897775}\n",
      "Epoch 27/50\n",
      "611/611 [==============================] - 36s 57ms/step - loss: 0.3536 - AUC: 0.9132\n",
      "{'val_loss': 0.41012725, 'val_AUC': 0.8905317}\n",
      "Epoch 28/50\n",
      "611/611 [==============================] - 36s 58ms/step - loss: 0.3497 - AUC: 0.9151\n",
      "{'val_loss': 0.40293023, 'val_AUC': 0.8892479}\n",
      "Epoch 29/50\n",
      "611/611 [==============================] - 36s 57ms/step - loss: 0.3487 - AUC: 0.9157\n",
      "{'val_loss': 0.40467396, 'val_AUC': 0.8898322}\n",
      "Epoch 30/50\n",
      "611/611 [==============================] - 36s 57ms/step - loss: 0.3474 - AUC: 0.9164\n",
      "{'val_loss': 0.40597275, 'val_AUC': 0.8903527}\n",
      "Epoch 31/50\n",
      "611/611 [==============================] - 36s 57ms/step - loss: 0.3432 - AUC: 0.9184\n",
      "{'val_loss': 0.4026944, 'val_AUC': 0.8925879}\n",
      "Epoch 32/50\n",
      "611/611 [==============================] - 36s 57ms/step - loss: 0.3394 - AUC: 0.9203\n",
      "{'val_loss': 0.39892384, 'val_AUC': 0.8957919}\n",
      "Epoch 33/50\n",
      "611/611 [==============================] - 36s 57ms/step - loss: 0.3378 - AUC: 0.9210\n",
      "{'val_loss': 0.39499298, 'val_AUC': 0.8977376}\n",
      "Epoch 34/50\n",
      "611/611 [==============================] - 37s 58ms/step - loss: 0.3364 - AUC: 0.9217\n",
      "{'val_loss': 0.39201623, 'val_AUC': 0.89680403}\n",
      "Epoch 35/50\n",
      "611/611 [==============================] - 36s 57ms/step - loss: 0.3340 - AUC: 0.9229\n",
      "{'val_loss': 0.3895412, 'val_AUC': 0.8958906}\n",
      "Epoch 36/50\n",
      "611/611 [==============================] - 36s 58ms/step - loss: 0.3315 - AUC: 0.9240\n",
      "{'val_loss': 0.38955447, 'val_AUC': 0.89613366}\n",
      "Epoch 37/50\n",
      "611/611 [==============================] - 36s 57ms/step - loss: 0.3295 - AUC: 0.9250\n",
      "{'val_loss': 0.39083296, 'val_AUC': 0.8951311}\n",
      "Epoch 38/50\n",
      "611/611 [==============================] - 36s 57ms/step - loss: 0.3279 - AUC: 0.9258\n",
      "{'val_loss': 0.38849264, 'val_AUC': 0.8961487}\n",
      "Epoch 39/50\n",
      "611/611 [==============================] - 36s 57ms/step - loss: 0.3256 - AUC: 0.9268\n",
      "{'val_loss': 0.38662967, 'val_AUC': 0.89811426}\n",
      "Epoch 40/50\n",
      "611/611 [==============================] - 36s 57ms/step - loss: 0.3234 - AUC: 0.9278\n",
      "{'val_loss': 0.38359678, 'val_AUC': 0.90099055}\n",
      "Epoch 41/50\n",
      "611/611 [==============================] - 36s 57ms/step - loss: 0.3219 - AUC: 0.9285\n",
      "{'val_loss': 0.38061786, 'val_AUC': 0.90202487}\n",
      "Epoch 42/50\n",
      "611/611 [==============================] - 36s 57ms/step - loss: 0.3209 - AUC: 0.9290\n",
      "{'val_loss': 0.38202903, 'val_AUC': 0.90250254}\n",
      "Epoch 43/50\n",
      "611/611 [==============================] - 36s 58ms/step - loss: 0.3191 - AUC: 0.9298\n",
      "{'val_loss': 0.3794159, 'val_AUC': 0.9031372}\n",
      "Epoch 44/50\n",
      "611/611 [==============================] - 36s 57ms/step - loss: 0.3165 - AUC: 0.9309\n",
      "{'val_loss': 0.37465745, 'val_AUC': 0.90316975}\n",
      "Epoch 45/50\n",
      "611/611 [==============================] - 37s 58ms/step - loss: 0.3152 - AUC: 0.9315\n",
      "{'val_loss': 0.3752438, 'val_AUC': 0.9042708}\n",
      "Epoch 46/50\n",
      "611/611 [==============================] - 36s 58ms/step - loss: 0.3144 - AUC: 0.9319\n",
      "{'val_loss': 0.37716845, 'val_AUC': 0.90466577}\n",
      "Epoch 47/50\n",
      "611/611 [==============================] - 36s 57ms/step - loss: 0.3128 - AUC: 0.9326\n",
      "{'val_loss': 0.3728171, 'val_AUC': 0.9057332}\n",
      "Epoch 48/50\n",
      "611/611 [==============================] - 36s 57ms/step - loss: 0.3106 - AUC: 0.9335\n",
      "{'val_loss': 0.36911675, 'val_AUC': 0.9050634}\n",
      "Epoch 49/50\n",
      " 65/611 [==>...........................] - ETA: 31s - loss: 0.3062 - AUC: 0.9356"
     ]
    }
   ],
   "source": [
    "validation_callback = KerasSequenceValidater(valid_dataset_tf)\n",
    "\n",
    "history = model.fit(train_dataset_tf, callbacks=[validation_callback], epochs=50)"
   ]
  },
  {
   "cell_type": "code",
   "execution_count": null,
   "metadata": {},
   "outputs": [],
   "source": [
    "MODEL_NAME_TF = os.environ.get(\"MODEL_NAME_TF\", \"movielens_tf\")\n",
    "MODEL_PATH_TEMP_TF = os.path.join(MODEL_BASE_DIR, MODEL_NAME_TF, \"1/model.savedmodel\")\n",
    "\n",
    "model.save(MODEL_PATH_TEMP_TF)"
   ]
  },
  {
   "cell_type": "markdown",
   "metadata": {},
   "source": [
    "Before moving to the next notebook, `04a-Triton-Inference-with-TF.ipynb`, we need to generate the Triton Inference Server configurations and save the models in the correct format. We just saved TensorFlow model to disk, and in the previous notebook `02-ETL-with-NVTabular`, we saved the NVTabular workflow. Let's load the workflow. "
   ]
  },
  {
   "cell_type": "markdown",
   "metadata": {},
   "source": [
    "The TensorFlow input layers expect the input datatype to be int32. Therefore, we need to change the output datatypes to int32 for our NVTabular workflow."
   ]
  },
  {
   "cell_type": "code",
   "execution_count": null,
   "metadata": {},
   "outputs": [],
   "source": [
    "workflow = nvt.Workflow.load(os.path.join(INPUT_DATA_DIR, \"workflow\"))\n",
    "\n",
    "workflow.output_dtypes[\"userId\"] = \"int32\"\n",
    "workflow.output_dtypes[\"movieId\"] = \"int32\""
   ]
  },
  {
   "cell_type": "code",
   "execution_count": null,
   "metadata": {},
   "outputs": [],
   "source": [
    "MODEL_NAME_ENSEMBLE = os.environ.get(\"MODEL_NAME_ENSEMBLE\", \"movielens\")\n",
    "# model path to save the models\n",
    "MODEL_PATH = os.environ.get(\"MODEL_PATH\", os.path.join(MODEL_BASE_DIR, \"models\"))"
   ]
  },
  {
   "cell_type": "markdown",
   "metadata": {},
   "source": [
    "NVTabular provides a function to save the NVTabular workflow, TensorFlow model and Triton Inference Server (IS) config files via `export_tensorflow_ensemble`. We provide the model, workflow, a model name for ensemble model, path and output column."
   ]
  },
  {
   "cell_type": "code",
   "execution_count": null,
   "metadata": {},
   "outputs": [],
   "source": [
    "# Creates an ensemble triton server model, where\n",
    "#   model: The tensorflow model that should be served\n",
    "#   workflow: The nvtabular workflow used in preprocessing\n",
    "#   name: The base name of the various triton models\n",
    "\n",
    "from nvtabular.inference.triton import export_tensorflow_ensemble\n",
    "\n",
    "export_tensorflow_ensemble(model, workflow, MODEL_NAME_ENSEMBLE, MODEL_PATH, [\"rating\"])"
   ]
  },
  {
   "cell_type": "markdown",
   "metadata": {},
   "source": [
    "Now, we can move to the next notebook, [04-Triton-Inference-with-TF.ipynb](https://github.com/NVIDIA/NVTabular/blob/main/examples/getting-started-movielens/04-Triton-Inference-with-TF.ipynb), to send inference request to the Triton IS."
   ]
  }
 ],
 "metadata": {
  "kernelspec": {
   "display_name": "Python 3 (ipykernel)",
   "language": "python",
   "name": "python3"
  },
  "language_info": {
   "codemirror_mode": {
    "name": "ipython",
    "version": 3
   },
   "file_extension": ".py",
   "mimetype": "text/x-python",
   "name": "python",
   "nbconvert_exporter": "python",
   "pygments_lexer": "ipython3",
   "version": "3.8.10"
  }
 },
 "nbformat": 4,
 "nbformat_minor": 4
}
