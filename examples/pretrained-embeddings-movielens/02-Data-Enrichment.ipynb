{
 "cells": [
  {
   "cell_type": "code",
   "execution_count": 1,
   "id": "495c9167",
   "metadata": {},
   "outputs": [],
   "source": [
    "# Copyright 2021 NVIDIA Corporation. All Rights Reserved.\n",
    "#\n",
    "# Licensed under the Apache License, Version 2.0 (the \"License\");\n",
    "# you may not use this file except in compliance with the License.\n",
    "# You may obtain a copy of the License at\n",
    "#\n",
    "#     http://www.apache.org/licenses/LICENSE-2.0\n",
    "#\n",
    "# Unless required by applicable law or agreed to in writing, software\n",
    "# distributed under the License is distributed on an \"AS IS\" BASIS,\n",
    "# WITHOUT WARRANTIES OR CONDITIONS OF ANY KIND, either express or implied.\n",
    "# See the License for the specific language governing permissions and\n",
    "# limitations under the License.\n",
    "# =============================================================================="
   ]
  },
  {
   "cell_type": "markdown",
   "id": "5e49d1c6",
   "metadata": {},
   "source": [
    "<img src=\"http://developer.download.nvidia.com/compute/machine-learning/frameworks/nvidia_logo.png\" style=\"width: 90px; float: right;\">\n",
    "\n",
    "\n",
    "# MovieLens Data Enrichment\n",
    "\n",
    "In this notebook, we will enrich the MovieLens 100k dataset with posters obtained from imdb."
   ]
  },
  {
   "cell_type": "code",
   "execution_count": 4,
   "id": "fbe7f8ad",
   "metadata": {},
   "outputs": [],
   "source": [
    "# External dependencies\n",
    "import os\n",
    "\n",
    "from merlin.core.utils import download_file\n",
    "\n",
    "# Get dataframe library - cudf or pandas\n",
    "from merlin.core.dispatch import get_lib\n",
    "\n",
    "df_lib = get_lib()"
   ]
  },
  {
   "cell_type": "code",
   "execution_count": 5,
   "id": "8fc382d6",
   "metadata": {},
   "outputs": [],
   "source": [
    "INPUT_DATA_DIR = os.environ.get(\n",
    "    \"INPUT_DATA_DIR\", os.path.expanduser(\"~/nvt-examples/movielens_100k/data/\")\n",
    ")"
   ]
  },
  {
   "cell_type": "markdown",
   "id": "1268ddcb",
   "metadata": {},
   "source": [
    "The following file contains a mapping of movies in the MovieLens 100k dataset to poster urls."
   ]
  },
  {
   "cell_type": "code",
   "execution_count": 13,
   "id": "b52e5d3e",
   "metadata": {},
   "outputs": [
    {
     "name": "stdout",
     "output_type": "stream",
     "text": [
      "--2022-05-25 03:57:18--  https://raw.githubusercontent.com/babu-thomas/movielens-posters/master/movie_poster.csv\n",
      "Resolving raw.githubusercontent.com (raw.githubusercontent.com)... 185.199.109.133\n",
      "Connecting to raw.githubusercontent.com (raw.githubusercontent.com)|185.199.109.133|:443... connected.\n",
      "HTTP request sent, awaiting response... 200 OK\n",
      "Length: 202458 (198K) [text/plain]\n",
      "Saving to: ‘movie_poster.csv’\n",
      "\n",
      "movie_poster.csv    100%[===================>] 197.71K  --.-KB/s    in 0.05s   \n",
      "\n",
      "2022-05-25 03:57:34 (4.00 MB/s) - ‘movie_poster.csv’ saved [202458/202458]\n",
      "\n"
     ]
    }
   ],
   "source": [
    "!wget https://raw.githubusercontent.com/babu-thomas/movielens-posters/master/movie_poster.csv"
   ]
  },
  {
   "cell_type": "code",
   "execution_count": 65,
   "id": "84d8fc61",
   "metadata": {},
   "outputs": [],
   "source": [
    "posters = df_lib.read_csv('movie_poster.csv', header=None, names=['movie_id', 'poster_url'])"
   ]
  },
  {
   "cell_type": "code",
   "execution_count": 66,
   "id": "dc8c8c97",
   "metadata": {},
   "outputs": [
    {
     "data": {
      "text/html": [
       "<div>\n",
       "<style scoped>\n",
       "    .dataframe tbody tr th:only-of-type {\n",
       "        vertical-align: middle;\n",
       "    }\n",
       "\n",
       "    .dataframe tbody tr th {\n",
       "        vertical-align: top;\n",
       "    }\n",
       "\n",
       "    .dataframe thead th {\n",
       "        text-align: right;\n",
       "    }\n",
       "</style>\n",
       "<table border=\"1\" class=\"dataframe\">\n",
       "  <thead>\n",
       "    <tr style=\"text-align: right;\">\n",
       "      <th></th>\n",
       "      <th>movie_id</th>\n",
       "      <th>poster_url</th>\n",
       "    </tr>\n",
       "  </thead>\n",
       "  <tbody>\n",
       "    <tr>\n",
       "      <th>1587</th>\n",
       "      <td>1678</td>\n",
       "      <td>https://images-na.ssl-images-amazon.com/images...</td>\n",
       "    </tr>\n",
       "    <tr>\n",
       "      <th>1588</th>\n",
       "      <td>1679</td>\n",
       "      <td>https://images-na.ssl-images-amazon.com/images...</td>\n",
       "    </tr>\n",
       "    <tr>\n",
       "      <th>1589</th>\n",
       "      <td>1680</td>\n",
       "      <td>https://images-na.ssl-images-amazon.com/images...</td>\n",
       "    </tr>\n",
       "    <tr>\n",
       "      <th>1590</th>\n",
       "      <td>1681</td>\n",
       "      <td>https://images-na.ssl-images-amazon.com/images...</td>\n",
       "    </tr>\n",
       "    <tr>\n",
       "      <th>1591</th>\n",
       "      <td>1682</td>\n",
       "      <td>https://images-na.ssl-images-amazon.com/images...</td>\n",
       "    </tr>\n",
       "  </tbody>\n",
       "</table>\n",
       "</div>"
      ],
      "text/plain": [
       "      movie_id                                         poster_url\n",
       "1587      1678  https://images-na.ssl-images-amazon.com/images...\n",
       "1588      1679  https://images-na.ssl-images-amazon.com/images...\n",
       "1589      1680  https://images-na.ssl-images-amazon.com/images...\n",
       "1590      1681  https://images-na.ssl-images-amazon.com/images...\n",
       "1591      1682  https://images-na.ssl-images-amazon.com/images..."
      ]
     },
     "execution_count": 66,
     "metadata": {},
     "output_type": "execute_result"
    }
   ],
   "source": [
    "posters.tail()"
   ]
  },
  {
   "cell_type": "markdown",
   "id": "f1e5d2c7",
   "metadata": {},
   "source": [
    "Unfortunately, not all of the movies have posters available. In such a scenario where an embedding is missing, we will use the average embedding value across the entire dataset.\n",
    "\n",
    "Let's download and store the posters.\n",
    "\n",
    "Depending on your connection, this can take a while, but we can speed things up via downloading the files in parallel."
   ]
  },
  {
   "cell_type": "code",
   "execution_count": 77,
   "id": "921dbebc",
   "metadata": {},
   "outputs": [
    {
     "name": "stdout",
     "output_type": "stream",
     "text": [
      "CPU times: user 175 ms, sys: 355 ms, total: 530 ms\n",
      "Wall time: 6min 21s\n"
     ]
    }
   ],
   "source": [
    "%%time\n",
    "\n",
    "import multiprocessing\n",
    "\n",
    "!mkdir -p {INPUT_DATA_DIR}/posters\n",
    "\n",
    "def download_poster(movie_id, poster_url):\n",
    "    img_data = requests.get(poster_url).content\n",
    "    with open(f'{INPUT_DATA_DIR}/posters/{movie_id}.jpg', 'wb') as handler:\n",
    "        handler.write(img_data)\n",
    "\n",
    "with multiprocessing.Pool(multiprocessing.cpu_count()) as p:\n",
    "    p.starmap(download_poster, [(data.movie_id, data.poster_url) for row_idx, data in posters.to_pandas().iterrows()])"
   ]
  }
 ],
 "metadata": {
  "kernelspec": {
   "display_name": "Python 3 (ipykernel)",
   "language": "python",
   "name": "python3"
  },
  "language_info": {
   "codemirror_mode": {
    "name": "ipython",
    "version": 3
   },
   "file_extension": ".py",
   "mimetype": "text/x-python",
   "name": "python",
   "nbconvert_exporter": "python",
   "pygments_lexer": "ipython3",
   "version": "3.8.10"
  }
 },
 "nbformat": 4,
 "nbformat_minor": 5
}
